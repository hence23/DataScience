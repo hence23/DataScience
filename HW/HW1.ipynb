{
 "cells": [
  {
   "cell_type": "markdown",
   "metadata": {},
   "source": [
    "# 題目: 南山人壽保單\n",
    "## 初步猜測會回購表單的人 多會因為常使用到該保單，所以會理賠較多次"
   ]
  },
  {
   "cell_type": "code",
   "execution_count": 40,
   "metadata": {
    "scrolled": true
   },
   "outputs": [
    {
     "data": {
      "text/html": [
       "<div>\n",
       "<style scoped>\n",
       "    .dataframe tbody tr th:only-of-type {\n",
       "        vertical-align: middle;\n",
       "    }\n",
       "\n",
       "    .dataframe tbody tr th {\n",
       "        vertical-align: top;\n",
       "    }\n",
       "\n",
       "    .dataframe thead th {\n",
       "        text-align: right;\n",
       "    }\n",
       "</style>\n",
       "<table border=\"1\" class=\"dataframe\">\n",
       "  <thead>\n",
       "    <tr style=\"text-align: right;\">\n",
       "      <th></th>\n",
       "      <th>CASE_NO</th>\n",
       "      <th>INSURED_SEX</th>\n",
       "      <th>AGE_RANK</th>\n",
       "      <th>TENURE</th>\n",
       "      <th>ILLNESS_CD</th>\n",
       "      <th>illness_code_desc</th>\n",
       "      <th>HOSP_CD</th>\n",
       "      <th>hospital_name</th>\n",
       "      <th>REIMB_AMT_K</th>\n",
       "      <th>settle_dt</th>\n",
       "      <th>CountNo</th>\n",
       "      <th>REIMB_AMT_5Y_K</th>\n",
       "      <th>RECENCY_YEAR</th>\n",
       "      <th>CountCovNo</th>\n",
       "      <th>Sum_afyp_K</th>\n",
       "      <th>EFFECTdate</th>\n",
       "      <th>TYPE_CODE</th>\n",
       "      <th>AFYP_K</th>\n",
       "    </tr>\n",
       "  </thead>\n",
       "  <tbody>\n",
       "    <tr>\n",
       "      <th>0</th>\n",
       "      <td>1</td>\n",
       "      <td>F</td>\n",
       "      <td>02.21~40</td>\n",
       "      <td>16</td>\n",
       "      <td>A47202</td>\n",
       "      <td>橈骨骨折</td>\n",
       "      <td>DM0068</td>\n",
       "      <td>澄清綜合醫院（中港分院）</td>\n",
       "      <td>7</td>\n",
       "      <td>2017/10/25</td>\n",
       "      <td>0.0</td>\n",
       "      <td>0.0</td>\n",
       "      <td>16</td>\n",
       "      <td>1.0</td>\n",
       "      <td>18.0</td>\n",
       "      <td>0</td>\n",
       "      <td>0</td>\n",
       "      <td>0.0</td>\n",
       "    </tr>\n",
       "    <tr>\n",
       "      <th>1</th>\n",
       "      <td>2</td>\n",
       "      <td>M</td>\n",
       "      <td>03.41~60</td>\n",
       "      <td>16</td>\n",
       "      <td>A27902</td>\n",
       "      <td>冠狀動脈疾病</td>\n",
       "      <td>UM0011</td>\n",
       "      <td>新光醫院</td>\n",
       "      <td>18</td>\n",
       "      <td>2017/3/3</td>\n",
       "      <td>3.0</td>\n",
       "      <td>71.0</td>\n",
       "      <td>16</td>\n",
       "      <td>2.0</td>\n",
       "      <td>23.0</td>\n",
       "      <td>0</td>\n",
       "      <td>0</td>\n",
       "      <td>0.0</td>\n",
       "    </tr>\n",
       "    <tr>\n",
       "      <th>2</th>\n",
       "      <td>3</td>\n",
       "      <td>M</td>\n",
       "      <td>02.21~40</td>\n",
       "      <td>24</td>\n",
       "      <td>A29101</td>\n",
       "      <td>腦中風</td>\n",
       "      <td>UM0009</td>\n",
       "      <td>長庚醫院(林口、台北、桃園)</td>\n",
       "      <td>5</td>\n",
       "      <td>2017/9/15</td>\n",
       "      <td>0.0</td>\n",
       "      <td>0.0</td>\n",
       "      <td>24</td>\n",
       "      <td>3.0</td>\n",
       "      <td>44.0</td>\n",
       "      <td>0</td>\n",
       "      <td>0</td>\n",
       "      <td>0.0</td>\n",
       "    </tr>\n",
       "    <tr>\n",
       "      <th>3</th>\n",
       "      <td>4</td>\n",
       "      <td>M</td>\n",
       "      <td>02.21~40</td>\n",
       "      <td>28</td>\n",
       "      <td>A36000</td>\n",
       "      <td>攝護腺（前列腺）疾病（發炎,肥大等）</td>\n",
       "      <td>UM0098</td>\n",
       "      <td>台安醫院</td>\n",
       "      <td>0</td>\n",
       "      <td>2017/3/8</td>\n",
       "      <td>5.0</td>\n",
       "      <td>32.0</td>\n",
       "      <td>28</td>\n",
       "      <td>3.0</td>\n",
       "      <td>27.0</td>\n",
       "      <td>0</td>\n",
       "      <td>0</td>\n",
       "      <td>0.0</td>\n",
       "    </tr>\n",
       "    <tr>\n",
       "      <th>4</th>\n",
       "      <td>5</td>\n",
       "      <td>M</td>\n",
       "      <td>02.21~40</td>\n",
       "      <td>28</td>\n",
       "      <td>A48003</td>\n",
       "      <td>腕及手之脫臼，扭，拉，挫，捩傷</td>\n",
       "      <td>UM0100</td>\n",
       "      <td>博仁醫院</td>\n",
       "      <td>2</td>\n",
       "      <td>2017/7/6</td>\n",
       "      <td>7.0</td>\n",
       "      <td>133.0</td>\n",
       "      <td>27</td>\n",
       "      <td>4.0</td>\n",
       "      <td>44.0</td>\n",
       "      <td>0</td>\n",
       "      <td>0</td>\n",
       "      <td>0.0</td>\n",
       "    </tr>\n",
       "  </tbody>\n",
       "</table>\n",
       "</div>"
      ],
      "text/plain": [
       "   CASE_NO INSURED_SEX  AGE_RANK  TENURE ILLNESS_CD   illness_code_desc  \\\n",
       "0        1           F  02.21~40      16     A47202                橈骨骨折   \n",
       "1        2           M  03.41~60      16     A27902              冠狀動脈疾病   \n",
       "2        3           M  02.21~40      24     A29101                 腦中風   \n",
       "3        4           M  02.21~40      28     A36000  攝護腺（前列腺）疾病（發炎,肥大等）   \n",
       "4        5           M  02.21~40      28     A48003     腕及手之脫臼，扭，拉，挫，捩傷   \n",
       "\n",
       "  HOSP_CD   hospital_name  REIMB_AMT_K   settle_dt  CountNo  REIMB_AMT_5Y_K  \\\n",
       "0  DM0068    澄清綜合醫院（中港分院）            7  2017/10/25      0.0             0.0   \n",
       "1  UM0011            新光醫院           18    2017/3/3      3.0            71.0   \n",
       "2  UM0009  長庚醫院(林口、台北、桃園)            5   2017/9/15      0.0             0.0   \n",
       "3  UM0098            台安醫院            0    2017/3/8      5.0            32.0   \n",
       "4  UM0100            博仁醫院            2    2017/7/6      7.0           133.0   \n",
       "\n",
       "   RECENCY_YEAR  CountCovNo  Sum_afyp_K EFFECTdate TYPE_CODE  AFYP_K  \n",
       "0            16         1.0        18.0          0         0     0.0  \n",
       "1            16         2.0        23.0          0         0     0.0  \n",
       "2            24         3.0        44.0          0         0     0.0  \n",
       "3            28         3.0        27.0          0         0     0.0  \n",
       "4            27         4.0        44.0          0         0     0.0  "
      ]
     },
     "execution_count": 40,
     "metadata": {},
     "output_type": "execute_result"
    }
   ],
   "source": [
    "# 讀取 CSV File\n",
    "import pandas as pd \n",
    "import numpy as np\n",
    "import matplotlib.pyplot as plt\n",
    "\n",
    "\n",
    "df = pd.read_csv('CLAIM.csv',encoding = 'big5')\n",
    "df = df.fillna(0)\n",
    "df.head(5)"
   ]
  },
  {
   "cell_type": "markdown",
   "metadata": {},
   "source": [
    "# 先觀察無回購的年齡層分布"
   ]
  },
  {
   "cell_type": "code",
   "execution_count": 39,
   "metadata": {},
   "outputs": [
    {
     "data": {
      "image/png": "[encoded data removed]",
      "text/plain": [
       "<Figure size 432x288 with 1 Axes>"
      ]
     },
     "metadata": {},
     "output_type": "display_data"
    }
   ],
   "source": [
    "rebuy2 = df[df['EFFECTdate'] == 0] #無回購表單的人\n",
    "agegroup2 = rebuy2.groupby(\"AGE_RANK\")\n",
    "data = agegroup2.size() #年齡分層每個組別內的大小\n",
    "data.plot.bar()\n",
    "plt.show()"
   ]
  },
  {
   "cell_type": "markdown",
   "metadata": {},
   "source": [
    "# 再觀察會回購保單的年齡層分布"
   ]
  },
  {
   "cell_type": "code",
   "execution_count": 30,
   "metadata": {},
   "outputs": [
    {
     "name": "stdout",
     "output_type": "stream",
     "text": [
      "<class 'pandas.core.groupby.groupby.DataFrameGroupBy'>\n"
     ]
    },
    {
     "data": {
      "image/png": "[encoded data removed]",
      "text/plain": [
       "<Figure size 432x288 with 1 Axes>"
      ]
     },
     "metadata": {},
     "output_type": "display_data"
    }
   ],
   "source": [
    "mask = df['EFFECTdate'] != 0 #有回購保單的人\n",
    "rebuy = df[mask]\n",
    "agegroup = rebuy.groupby(\"AGE_RANK\")\n",
    "print(type(agegroup))\n",
    "data2 =agegroup.size() #每個組別內的大小\n",
    "data2.plot(kind = 'bar')\n",
    "#圓餅圖\n",
    "#data2.plot.pie(figsize=(6, 6))\n",
    "plt.show()"
   ]
  },
  {
   "cell_type": "markdown",
   "metadata": {},
   "source": [
    "# 各年齡層在五年內平均理賠次數"
   ]
  },
  {
   "cell_type": "code",
   "execution_count": 38,
   "metadata": {},
   "outputs": [
    {
     "data": {
      "image/png": "[encoded data removed]",
      "text/plain": [
       "<Figure size 432x288 with 1 Axes>"
      ]
     },
     "metadata": {},
     "output_type": "display_data"
    }
   ],
   "source": [
    "a = agegroup.get_group(\"01.0~20Y\")[\"CountNo\"].mean()\n",
    "b = agegroup.get_group(\"02.21~40\")[\"CountNo\"].mean()\n",
    "c = agegroup.get_group(\"03.41~60\")[\"CountNo\"].mean()\n",
    "d = agegroup.get_group(\"04.61Y+\")[\"CountNo\"].mean()\n",
    "y_data = pd.Series(data = np.array([a,b,c,d]), index = [\"01.0~20Y\",\"02.21~40\",\"03.41~60\",\"04.61Y+\"])\n",
    "y_data.plot(kind = 'bar')\n",
    "plt.show()\n",
    "plt.close()"
   ]
  }
 ],
 "metadata": {
  "kernelspec": {
   "display_name": "Python 3",
   "language": "python",
   "name": "python3"
  },
  "language_info": {
   "codemirror_mode": {
    "name": "ipython",
    "version": 3
   },
   "file_extension": ".py",
   "mimetype": "text/x-python",
   "name": "python",
   "nbconvert_exporter": "python",
   "pygments_lexer": "ipython3",
   "version": "3.6.5"
  }
 },
 "nbformat": 4,
 "nbformat_minor": 2
}
